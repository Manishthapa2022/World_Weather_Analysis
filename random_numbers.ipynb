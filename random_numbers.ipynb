{
 "cells": [
  {
   "cell_type": "code",
   "execution_count": 1,
   "id": "8a94c9b7",
   "metadata": {},
   "outputs": [],
   "source": [
    "# import the random module\n",
    "import random"
   ]
  },
  {
   "cell_type": "code",
   "execution_count": 2,
   "id": "69a97227",
   "metadata": {},
   "outputs": [
    {
     "data": {
      "text/plain": [
       "86"
      ]
     },
     "execution_count": 2,
     "metadata": {},
     "output_type": "execute_result"
    }
   ],
   "source": [
    "# Randint() function\n",
    "random.randint(-90,90)"
   ]
  },
  {
   "cell_type": "code",
   "execution_count": 3,
   "id": "8437362d",
   "metadata": {},
   "outputs": [
    {
     "data": {
      "text/plain": [
       "0.3674710234943869"
      ]
     },
     "execution_count": 3,
     "metadata": {},
     "output_type": "execute_result"
    }
   ],
   "source": [
    "# get floating point decimal between 0 and 1\n",
    "random.random()"
   ]
  },
  {
   "cell_type": "code",
   "execution_count": 4,
   "id": "4738629e",
   "metadata": {},
   "outputs": [
    {
     "data": {
      "text/plain": [
       "-46.89472518154214"
      ]
     },
     "execution_count": 4,
     "metadata": {},
     "output_type": "execute_result"
    }
   ],
   "source": [
    "# combining the random functions\n",
    "random_number=random.randint(-90,89) + random.random()\n",
    "random_number"
   ]
  },
  {
   "cell_type": "code",
   "execution_count": 34,
   "id": "bfe39d33",
   "metadata": {},
   "outputs": [
    {
     "data": {
      "text/plain": [
       "[-40.14578191576393,\n",
       " 26.37151128549962,\n",
       " 67.03532538995138,\n",
       " -53.56627066935931,\n",
       " -49.628227372096475,\n",
       " -56.4300247800005,\n",
       " -17.30643290207794,\n",
       " 22.001512229532867,\n",
       " 56.46926158431713,\n",
       " -6.519533093083034]"
      ]
     },
     "execution_count": 34,
     "metadata": {},
     "output_type": "execute_result"
    }
   ],
   "source": [
    "x=1\n",
    "latitudes=[]\n",
    "while x<11:\n",
    "    random_lat=random.randint(-90,89)+ random.random()\n",
    "    latitudes.append(random_lat)\n",
    "    x=x+1\n",
    "latitudes    "
   ]
  },
  {
   "cell_type": "code",
   "execution_count": 25,
   "id": "d0ed6140",
   "metadata": {},
   "outputs": [
    {
     "data": {
      "text/plain": [
       "36"
      ]
     },
     "execution_count": 25,
     "metadata": {},
     "output_type": "execute_result"
    }
   ],
   "source": [
    "# anotherfunction  randrange\n",
    "random.randrange(-90,90,step=3)"
   ]
  },
  {
   "cell_type": "code",
   "execution_count": 26,
   "id": "d625c2ea",
   "metadata": {},
   "outputs": [
    {
     "data": {
      "text/plain": [
       "78.36739695788361"
      ]
     },
     "execution_count": 26,
     "metadata": {},
     "output_type": "execute_result"
    }
   ],
   "source": [
    "# unifrom function\n",
    "random.uniform(-90,90)"
   ]
  },
  {
   "cell_type": "code",
   "execution_count": 27,
   "id": "b8f2966c",
   "metadata": {},
   "outputs": [],
   "source": [
    "# import the Numpy module\n",
    "import numpy as np"
   ]
  },
  {
   "cell_type": "code",
   "execution_count": 28,
   "id": "07cd40ca",
   "metadata": {},
   "outputs": [
    {
     "data": {
      "text/plain": [
       "67.05504350746637"
      ]
     },
     "execution_count": 28,
     "metadata": {},
     "output_type": "execute_result"
    }
   ],
   "source": [
    "np.random.uniform(-90,90)"
   ]
  },
  {
   "cell_type": "code",
   "execution_count": 30,
   "id": "e07eb841",
   "metadata": {},
   "outputs": [
    {
     "data": {
      "text/plain": [
       "array([ -1.27937114,  11.70363758,  78.55237107,  83.31400115,\n",
       "       -82.06666626,  77.75457776,  49.27795636,  52.96197534,\n",
       "       -85.46977307,  -0.71280552,  78.72598012, -51.3955671 ,\n",
       "       -18.52661852,  -5.36033526, -37.32971823, -29.20061255,\n",
       "        42.2490335 ,  41.62243771, -44.54673239,  35.21410932,\n",
       "       -23.15977694,  79.73352774, -86.75237407, -64.2081763 ,\n",
       "       -83.71369069,  40.74178349, -52.9262071 ,  57.84145142,\n",
       "        57.51400148, -48.94885623,  46.15031224, -88.86530002,\n",
       "        12.85355478,  79.54570493,  72.307343  , -53.46944771,\n",
       "       -66.69486623, -79.269514  , -26.12205514,  18.9784275 ,\n",
       "        46.04060476,  -3.09206751,   6.82519219, -43.91239978,\n",
       "        12.06993767, -52.09442411,  19.08679668, -52.92454313,\n",
       "        35.44613589, -87.58182455])"
      ]
     },
     "execution_count": 30,
     "metadata": {},
     "output_type": "execute_result"
    }
   ],
   "source": [
    "np.random.uniform(-90,90, size=50)"
   ]
  },
  {
   "cell_type": "code",
   "execution_count": 31,
   "id": "8b84cc61",
   "metadata": {},
   "outputs": [],
   "source": [
    "# import timeit\n",
    "import timeit"
   ]
  },
  {
   "cell_type": "code",
   "execution_count": 32,
   "id": "6261d1eb",
   "metadata": {},
   "outputs": [
    {
     "name": "stdout",
     "output_type": "stream",
     "text": [
      "14.7 µs ± 1.04 µs per loop (mean ± std. dev. of 7 runs, 100000 loops each)\n"
     ]
    }
   ],
   "source": [
    "%timeit np.random.uniform(-90, 90, size=1500)"
   ]
  },
  {
   "cell_type": "code",
   "execution_count": 35,
   "id": "5d1e6b49",
   "metadata": {},
   "outputs": [
    {
     "name": "stdout",
     "output_type": "stream",
     "text": [
      "1.55 ms ± 137 µs per loop (mean ± std. dev. of 7 runs, 1000 loops each)\n"
     ]
    }
   ],
   "source": [
    "def latitudes(size):\n",
    "    latitudes = []\n",
    "    x = 0\n",
    "    while x < (size):\n",
    "        random_lat = random.randint(-90, 90) + random.random()\n",
    "        latitudes.append(random_lat)\n",
    "        x += 1\n",
    "    return latitudes\n",
    "# Call the function with 1500.\n",
    "%timeit latitudes(1500)\n",
    "    "
   ]
  },
  {
   "cell_type": "code",
   "execution_count": null,
   "id": "3e77567f",
   "metadata": {},
   "outputs": [],
   "source": []
  }
 ],
 "metadata": {
  "kernelspec": {
   "display_name": "PythonData",
   "language": "python",
   "name": "pythondata"
  },
  "language_info": {
   "codemirror_mode": {
    "name": "ipython",
    "version": 3
   },
   "file_extension": ".py",
   "mimetype": "text/x-python",
   "name": "python",
   "nbconvert_exporter": "python",
   "pygments_lexer": "ipython3",
   "version": "3.9.7"
  }
 },
 "nbformat": 4,
 "nbformat_minor": 5
}
